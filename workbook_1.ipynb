{
 "cells": [
  {
   "cell_type": "markdown",
   "id": "011d9410",
   "metadata": {},
   "source": [
    "# PHASE 2 PROJECT - MOVIE STUDIO BUSINESS INSIGHTS\n"
   ]
  },
  {
   "cell_type": "markdown",
   "id": "2642579e",
   "metadata": {},
   "source": [
    "## GROUP 4 PROJECT SUBMISSION\n",
    "\n",
    "* Students names: Valentine Kweyu, Shem Nderitu, Mercy Barminga, Timothy Kamwilwa, Beatrice Kiilu, Nelson Muia, & Sharon Chebet.\n",
    "* Student pace: Data Science/Part time \n",
    "* Scheduled project review date/time: 12th June 2025.\n",
    "* Instructor name: Maryann Mwikali\n",
    "* Blog post URL:\n"
   ]
  },
  {
   "cell_type": "markdown",
   "id": "db90935e",
   "metadata": {},
   "source": [
    "## SECTION 1: BUSINESS UNDERSTANDING"
   ]
  },
  {
   "cell_type": "markdown",
   "id": "b4af1876",
   "metadata": {},
   "source": [
    "### Business Problem\n",
    "The company wants to launch a new movie studio to produce original video content. However, the team lacks data-driven insights into what types of movies perform well in the market.\n"
   ]
  },
  {
   "cell_type": "markdown",
   "id": "4ba31b66",
   "metadata": {},
   "source": [
    "### Objective\n",
    "Use exploratory data analysis (EDA) on movie data from various sources (Rotten Tomatoes, The Numbers, IMDB) to identify trends, patterns, and business opportunities in the film industry.\n",
    "\n",
    "Provide 3 actionable recommendations to guide the new studio in film production."
   ]
  },
  {
   "cell_type": "markdown",
   "id": "68eb17b5",
   "metadata": {},
   "source": [
    "### Stakeholders\n",
    "- Head of the company's new movie studio\n",
    "- Marketing team\n",
    "- Content development team"
   ]
  }
 ],
 "metadata": {
  "kernelspec": {
   "display_name": "learn-env",
   "language": "python",
   "name": "python3"
  },
  "language_info": {
   "name": "python",
   "version": "3.8.5"
  }
 },
 "nbformat": 4,
 "nbformat_minor": 5
}
