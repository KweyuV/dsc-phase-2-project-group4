{
 "cells": [
  {
   "cell_type": "code",
   "execution_count": null,
   "id": "011d9410",
   "metadata": {},
   "outputs": [],
   "source": [
    "# first line"
   ]
  }
 ],
 "metadata": {
  "kernelspec": {
   "display_name": "learn-env",
   "language": "python",
   "name": "python3"
  },
  "language_info": {
   "name": "python",
   "version": "3.8.5"
  }
 },
 "nbformat": 4,
 "nbformat_minor": 5
}
