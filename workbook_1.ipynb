{
 "cells": [
  {
   "cell_type": "markdown",
   "id": "011d9410",
   "metadata": {},
   "source": [
    "# PHASE 2 PROJECT - MOVIE STUDIO BUSINESS INSIGHTS\n"
   ]
  },
  {
   "cell_type": "markdown",
   "id": "2642579e",
   "metadata": {},
   "source": [
    "## GROUP 4 PROJECT SUBMISSION\n",
    "\n",
    "* Students names: Valentine Kweyu, Shem Nderitu, Mercy Barminga, Timothy Kamwilwa, Beatrice Kiilu, Nelson Muia, & Sharon Chebet.\n",
    "* Student pace: Data Science/Part time \n",
    "* Scheduled project review date/time: 12th June 2025.\n",
    "* Instructor name: Maryann Mwikali\n",
    "* Blog post URL:\n"
   ]
  },
  {
   "cell_type": "markdown",
   "id": "db90935e",
   "metadata": {},
   "source": [
    "## SECTION 1: BUSINESS UNDERSTANDING"
   ]
  },
  {
   "cell_type": "markdown",
   "id": "b4af1876",
   "metadata": {},
   "source": [
    "### Business Problem\n",
    "The company wants to launch a new movie studio to produce original video content. However, the team lacks data-driven insights into what types of movies perform well in the market.\n"
   ]
  },
  {
   "cell_type": "markdown",
   "id": "4ba31b66",
   "metadata": {},
   "source": [
    "### Objective\n",
    "Use exploratory data analysis (EDA) on movie data from various sources (Rotten Tomatoes, The Numbers, IMDB) to identify trends, patterns, and business opportunities in the film industry.\n",
    "\n",
    "Provide 3 actionable recommendations to guide the new studio in film production."
   ]
  },
  {
   "cell_type": "markdown",
   "id": "68eb17b5",
   "metadata": {},
   "source": [
    "### Stakeholders\n",
    "- Head of the company's new movie studio\n",
    "- Marketing team\n",
    "- Content development team"
   ]
  },
  {
   "cell_type": "markdown",
   "id": "369ba9af",
   "metadata": {},
   "source": [
    "### Loading Data"
   ]
  },
  {
   "cell_type": "code",
   "execution_count": 2,
   "id": "7783099c",
   "metadata": {},
   "outputs": [],
   "source": [
    "# Import Relevant libraries\n",
    "import pandas as pd\n",
    "import numpy as np\n",
    "import matplotlib.pyplot as plt\n",
    "import seaborn as sns\n",
    "import gzip"
   ]
  },
  {
   "cell_type": "code",
   "execution_count": 3,
   "id": "9ffbb5c9",
   "metadata": {},
   "outputs": [],
   "source": [
    "# Display settings\n",
    "pd.set_option('display.max_columns', None)\n",
    "sns.set(style=\"whitegrid\")"
   ]
  },
  {
   "cell_type": "code",
   "execution_count": 4,
   "id": "10bbf8ce",
   "metadata": {},
   "outputs": [],
   "source": [
    "# Load Rotten Tomatoes movie info\n",
    "df_rt_info = pd.read_csv(r\"zippedData\\rt.movie_info.tsv.gz\", sep='\\t', compression='gzip')\n",
    "# Load Rotten Tomatoes movie reviews\n",
    "df_rt_reviews = pd.read_csv(r\"zippedData\\rt.reviews.tsv.gz\", sep='\\t', compression='gzip', encoding = 'latin1')\n",
    "# Load movie budgets data\n",
    "df_budgets = pd.read_csv(r\"zippedData/tn.movie_budgets.csv.gz\", compression='gzip')"
   ]
  },
  {
   "cell_type": "code",
   "execution_count": 5,
   "id": "e4baa465",
   "metadata": {},
   "outputs": [
    {
     "name": "stdout",
     "output_type": "stream",
     "text": [
      "\n",
      "Rotten Tomatoes Info:\n"
     ]
    },
    {
     "data": {
      "application/vnd.microsoft.datawrangler.viewer.v0+json": {
       "columns": [
        {
         "name": "index",
         "rawType": "int64",
         "type": "integer"
        },
        {
         "name": "id",
         "rawType": "int64",
         "type": "integer"
        },
        {
         "name": "synopsis",
         "rawType": "object",
         "type": "unknown"
        },
        {
         "name": "rating",
         "rawType": "object",
         "type": "string"
        },
        {
         "name": "genre",
         "rawType": "object",
         "type": "string"
        },
        {
         "name": "director",
         "rawType": "object",
         "type": "string"
        },
        {
         "name": "writer",
         "rawType": "object",
         "type": "string"
        },
        {
         "name": "theater_date",
         "rawType": "object",
         "type": "unknown"
        },
        {
         "name": "dvd_date",
         "rawType": "object",
         "type": "unknown"
        },
        {
         "name": "currency",
         "rawType": "object",
         "type": "unknown"
        },
        {
         "name": "box_office",
         "rawType": "object",
         "type": "unknown"
        },
        {
         "name": "runtime",
         "rawType": "object",
         "type": "string"
        },
        {
         "name": "studio",
         "rawType": "object",
         "type": "unknown"
        }
       ],
       "ref": "7f914690-76b0-4ecb-ab3e-68a5e2d76799",
       "rows": [
        [
         "0",
         "1",
         "This gritty, fast-paced, and innovative police drama earned five Academy Awards, including Best Picture, Best Adapted Screenplay (written by Ernest Tidyman), and Best Actor (Gene Hackman). Jimmy \"Popeye\" Doyle (Hackman) and his partner, Buddy Russo (Roy Scheider), are New York City police detectives on narcotics detail, trying to track down the source of heroin from Europe into the United States. Suave Alain Charnier (Fernando Rey) is the French drug kingpin who provides a large percentage of New York City's dope, and Pierre Nicoli (Marcel Bozzuffi) is a hired killer and Charnier's right-hand man. Acting on a hunch, Popeye and Buddy start tailing Sal Boca (Tony Lo Bianco) and his wife, Angie (Arlene Faber), who live pretty high for a couple whose corner store brings in about 7,000 dollars a year. It turns out Popeye's suspicions are right -- Sal and Angie are the New York agents for Charnier, who will be smuggling 32 million dollars' worth of heroin into the city in a car shipped over from France. The French Connection broke plenty of new ground for screen thrillers; Popeye Doyle was a highly unusual \"hero,\" an often violent, racist, and mean-spirited cop whose dedication to his job fell just short of dangerous obsession. The film's high point, a high-speed car chase with Popeye tailing an elevated train, was one of the most viscerally exciting screen moments of its day and set the stage for dozens of action sequences to follow. And the film's grimy realism (and downbeat ending) was a big change from the buff-and-shine gloss and good-guys-always-win heroics of most police dramas that preceded it. The French Connection was inspired by a true story, and Eddie Egan and Sonny Grosso, Popeye and Buddy's real life counterparts, both have small roles in the film. A sequel followed four years later.",
         "R",
         "Action and Adventure|Classics|Drama",
         "William Friedkin",
         "Ernest Tidyman",
         "Oct 9, 1971",
         "Sep 25, 2001",
         null,
         null,
         "104 minutes",
         null
        ],
        [
         "1",
         "3",
         "New York City, not-too-distant-future: Eric Packer, a 28 year-old finance golden boy dreaming of living in a civilization ahead of this one, watches a dark shadow cast over the firmament of the Wall Street galaxy, of which he is the uncontested king. As he is chauffeured across midtown Manhattan to get a haircut at his father's old barber, his anxious eyes are glued to the yuan's exchange rate: it is mounting against all expectations, destroying Eric's bet against it. Eric Packer is losing his empire with every tick of the clock. Meanwhile, an eruption of wild activity unfolds in the city's streets. Petrified as the threats of the real world infringe upon his cloud of virtual convictions, his paranoia intensifies during the course of his 24-hour cross-town odyssey. Packer starts to piece together clues that lead him to a most terrifying secret: his imminent assassination. -- (C) Official Site",
         "R",
         "Drama|Science Fiction and Fantasy",
         "David Cronenberg",
         "David Cronenberg|Don DeLillo",
         "Aug 17, 2012",
         "Jan 1, 2013",
         "$",
         "600,000",
         "108 minutes",
         "Entertainment One"
        ],
        [
         "2",
         "5",
         "Illeana Douglas delivers a superb performance as Denise Waverly, a fictional singer and songwriter whose life bears more than a passing resemblance to that of real-life pop star Carole King. Edna Buxton, the daughter of a Philadelphia steel tycoon, aspires to a career as a singer, and when against her mother's bidding she sings a sultry version of \"Hey There (You With the Stars in Your Eyes)\" (instead of Mom's choice, \"You'll Never Walk Alone\") at a talent contest, she wins a recording contact and moves to New York City. She cuts a record and gains a new stage name, Denise Waverly; however, she soon finds that girl singers are a dime a dozen in the Big Apple and her career as a vocalist goes nowhere. But she has a knack for writing songs, and eccentric producer Joel Milner (John Turturro) asks her to pen some songs for his upcoming projects. Teamed with Howard Caszatt (Eric Stoltz), a hipster songwriter who wants to express his political and social ideals through pop tunes, she finds both a successful collaborator and husband. While her work with Howard gains Denise writing credits on a string of hit records and respect within the industry, their marriage falls apart, and she becomes involved with Jay Phillips (Matt Dillon), the gifted but unstable leader of a popular West Coast surf music combo. Students of pop music history will have a ball with the various characters modeled after real-life rock legends, and the 1960s-style song score includes numbers written by Joni Mitchell and J. Mascis (of the band Dinosaur Jr.), as well as one-time King collaborator Gerry Goffin; a collaboration between Elvis Costello and Burt Bacharach, \"God Give Me Strength,\" led to a full album written by the two great tunesmiths.",
         "R",
         "Drama|Musical and Performing Arts",
         "Allison Anders",
         "Allison Anders",
         "Sep 13, 1996",
         "Apr 18, 2000",
         null,
         null,
         "116 minutes",
         null
        ],
        [
         "3",
         "6",
         "Michael Douglas runs afoul of a treacherous supervisor in this film version of Michael Crichton's novel. Douglas plays Tom Sanders, an executive at DigiCom, a leading computer software firm. DigiCom is about to launch a new virtual reality-based data storage system that is expected to revolutionize the industry, and Bob Garvin (Donald Sutherland), the owner of the company, is in the midst of negotiating a merger that could bring",
         "R",
         "Drama|Mystery and Suspense",
         "Barry Levinson",
         "Paul Attanasio|Michael Crichton",
         "Dec 9, 1994",
         "Aug 27, 1997",
         null,
         null,
         "128 minutes",
         null
        ],
        [
         "4",
         "7",
         null,
         "NR",
         "Drama|Romance",
         "Rodney Bennett",
         "Giles Cooper",
         null,
         null,
         null,
         null,
         "200 minutes",
         null
        ]
       ],
       "shape": {
        "columns": 12,
        "rows": 5
       }
      },
      "text/html": [
       "<div>\n",
       "<style scoped>\n",
       "    .dataframe tbody tr th:only-of-type {\n",
       "        vertical-align: middle;\n",
       "    }\n",
       "\n",
       "    .dataframe tbody tr th {\n",
       "        vertical-align: top;\n",
       "    }\n",
       "\n",
       "    .dataframe thead th {\n",
       "        text-align: right;\n",
       "    }\n",
       "</style>\n",
       "<table border=\"1\" class=\"dataframe\">\n",
       "  <thead>\n",
       "    <tr style=\"text-align: right;\">\n",
       "      <th></th>\n",
       "      <th>id</th>\n",
       "      <th>synopsis</th>\n",
       "      <th>rating</th>\n",
       "      <th>genre</th>\n",
       "      <th>director</th>\n",
       "      <th>writer</th>\n",
       "      <th>theater_date</th>\n",
       "      <th>dvd_date</th>\n",
       "      <th>currency</th>\n",
       "      <th>box_office</th>\n",
       "      <th>runtime</th>\n",
       "      <th>studio</th>\n",
       "    </tr>\n",
       "  </thead>\n",
       "  <tbody>\n",
       "    <tr>\n",
       "      <th>0</th>\n",
       "      <td>1</td>\n",
       "      <td>This gritty, fast-paced, and innovative police...</td>\n",
       "      <td>R</td>\n",
       "      <td>Action and Adventure|Classics|Drama</td>\n",
       "      <td>William Friedkin</td>\n",
       "      <td>Ernest Tidyman</td>\n",
       "      <td>Oct 9, 1971</td>\n",
       "      <td>Sep 25, 2001</td>\n",
       "      <td>NaN</td>\n",
       "      <td>NaN</td>\n",
       "      <td>104 minutes</td>\n",
       "      <td>NaN</td>\n",
       "    </tr>\n",
       "    <tr>\n",
       "      <th>1</th>\n",
       "      <td>3</td>\n",
       "      <td>New York City, not-too-distant-future: Eric Pa...</td>\n",
       "      <td>R</td>\n",
       "      <td>Drama|Science Fiction and Fantasy</td>\n",
       "      <td>David Cronenberg</td>\n",
       "      <td>David Cronenberg|Don DeLillo</td>\n",
       "      <td>Aug 17, 2012</td>\n",
       "      <td>Jan 1, 2013</td>\n",
       "      <td>$</td>\n",
       "      <td>600,000</td>\n",
       "      <td>108 minutes</td>\n",
       "      <td>Entertainment One</td>\n",
       "    </tr>\n",
       "    <tr>\n",
       "      <th>2</th>\n",
       "      <td>5</td>\n",
       "      <td>Illeana Douglas delivers a superb performance ...</td>\n",
       "      <td>R</td>\n",
       "      <td>Drama|Musical and Performing Arts</td>\n",
       "      <td>Allison Anders</td>\n",
       "      <td>Allison Anders</td>\n",
       "      <td>Sep 13, 1996</td>\n",
       "      <td>Apr 18, 2000</td>\n",
       "      <td>NaN</td>\n",
       "      <td>NaN</td>\n",
       "      <td>116 minutes</td>\n",
       "      <td>NaN</td>\n",
       "    </tr>\n",
       "    <tr>\n",
       "      <th>3</th>\n",
       "      <td>6</td>\n",
       "      <td>Michael Douglas runs afoul of a treacherous su...</td>\n",
       "      <td>R</td>\n",
       "      <td>Drama|Mystery and Suspense</td>\n",
       "      <td>Barry Levinson</td>\n",
       "      <td>Paul Attanasio|Michael Crichton</td>\n",
       "      <td>Dec 9, 1994</td>\n",
       "      <td>Aug 27, 1997</td>\n",
       "      <td>NaN</td>\n",
       "      <td>NaN</td>\n",
       "      <td>128 minutes</td>\n",
       "      <td>NaN</td>\n",
       "    </tr>\n",
       "    <tr>\n",
       "      <th>4</th>\n",
       "      <td>7</td>\n",
       "      <td>NaN</td>\n",
       "      <td>NR</td>\n",
       "      <td>Drama|Romance</td>\n",
       "      <td>Rodney Bennett</td>\n",
       "      <td>Giles Cooper</td>\n",
       "      <td>NaN</td>\n",
       "      <td>NaN</td>\n",
       "      <td>NaN</td>\n",
       "      <td>NaN</td>\n",
       "      <td>200 minutes</td>\n",
       "      <td>NaN</td>\n",
       "    </tr>\n",
       "  </tbody>\n",
       "</table>\n",
       "</div>"
      ],
      "text/plain": [
       "   id                                           synopsis rating  \\\n",
       "0   1  This gritty, fast-paced, and innovative police...      R   \n",
       "1   3  New York City, not-too-distant-future: Eric Pa...      R   \n",
       "2   5  Illeana Douglas delivers a superb performance ...      R   \n",
       "3   6  Michael Douglas runs afoul of a treacherous su...      R   \n",
       "4   7                                                NaN     NR   \n",
       "\n",
       "                                 genre          director  \\\n",
       "0  Action and Adventure|Classics|Drama  William Friedkin   \n",
       "1    Drama|Science Fiction and Fantasy  David Cronenberg   \n",
       "2    Drama|Musical and Performing Arts    Allison Anders   \n",
       "3           Drama|Mystery and Suspense    Barry Levinson   \n",
       "4                        Drama|Romance    Rodney Bennett   \n",
       "\n",
       "                            writer  theater_date      dvd_date currency  \\\n",
       "0                   Ernest Tidyman   Oct 9, 1971  Sep 25, 2001      NaN   \n",
       "1     David Cronenberg|Don DeLillo  Aug 17, 2012   Jan 1, 2013        $   \n",
       "2                   Allison Anders  Sep 13, 1996  Apr 18, 2000      NaN   \n",
       "3  Paul Attanasio|Michael Crichton   Dec 9, 1994  Aug 27, 1997      NaN   \n",
       "4                     Giles Cooper           NaN           NaN      NaN   \n",
       "\n",
       "  box_office      runtime             studio  \n",
       "0        NaN  104 minutes                NaN  \n",
       "1    600,000  108 minutes  Entertainment One  \n",
       "2        NaN  116 minutes                NaN  \n",
       "3        NaN  128 minutes                NaN  \n",
       "4        NaN  200 minutes                NaN  "
      ]
     },
     "metadata": {},
     "output_type": "display_data"
    },
    {
     "name": "stdout",
     "output_type": "stream",
     "text": [
      "\n",
      "Rotten Tomatoes Reviews:\n"
     ]
    },
    {
     "data": {
      "application/vnd.microsoft.datawrangler.viewer.v0+json": {
       "columns": [
        {
         "name": "index",
         "rawType": "int64",
         "type": "integer"
        },
        {
         "name": "id",
         "rawType": "int64",
         "type": "integer"
        },
        {
         "name": "review",
         "rawType": "object",
         "type": "string"
        },
        {
         "name": "rating",
         "rawType": "object",
         "type": "unknown"
        },
        {
         "name": "fresh",
         "rawType": "object",
         "type": "string"
        },
        {
         "name": "critic",
         "rawType": "object",
         "type": "unknown"
        },
        {
         "name": "top_critic",
         "rawType": "int64",
         "type": "integer"
        },
        {
         "name": "publisher",
         "rawType": "object",
         "type": "string"
        },
        {
         "name": "date",
         "rawType": "object",
         "type": "string"
        }
       ],
       "ref": "9337a985-abc3-4613-bf3e-a9630a98f23a",
       "rows": [
        [
         "0",
         "3",
         "A distinctly gallows take on contemporary financial mores, as one absurdly rich man's limo ride across town for a haircut functions as a state-of-the-nation discourse. ",
         "3/5",
         "fresh",
         "PJ Nabarro",
         "0",
         "Patrick Nabarro",
         "November 10, 2018"
        ],
        [
         "1",
         "3",
         "It's an allegory in search of a meaning that never arrives...It's just old-fashioned bad storytelling.",
         null,
         "rotten",
         "Annalee Newitz",
         "0",
         "io9.com",
         "May 23, 2018"
        ],
        [
         "2",
         "3",
         "... life lived in a bubble in financial dealings and digital communications and brief face-to-face conversations and sexual intermissions in a space shuttle of a limousine creeping through the gridlock of an anonymous New York City.",
         null,
         "fresh",
         "Sean Axmaker",
         "0",
         "Stream on Demand",
         "January 4, 2018"
        ],
        [
         "3",
         "3",
         "Continuing along a line introduced in last year's \"A Dangerous Method\", David Cronenberg pushes his cinema towards a talky abstraction in his uncanny, perversely funny and frighteningly insular adaptation of Don DeLillo, \"Cosmopolis\".",
         null,
         "fresh",
         "Daniel Kasman",
         "0",
         "MUBI",
         "November 16, 2017"
        ],
        [
         "4",
         "3",
         "... a perverse twist on neorealism... ",
         null,
         "fresh",
         null,
         "0",
         "Cinema Scope",
         "October 12, 2017"
        ]
       ],
       "shape": {
        "columns": 8,
        "rows": 5
       }
      },
      "text/html": [
       "<div>\n",
       "<style scoped>\n",
       "    .dataframe tbody tr th:only-of-type {\n",
       "        vertical-align: middle;\n",
       "    }\n",
       "\n",
       "    .dataframe tbody tr th {\n",
       "        vertical-align: top;\n",
       "    }\n",
       "\n",
       "    .dataframe thead th {\n",
       "        text-align: right;\n",
       "    }\n",
       "</style>\n",
       "<table border=\"1\" class=\"dataframe\">\n",
       "  <thead>\n",
       "    <tr style=\"text-align: right;\">\n",
       "      <th></th>\n",
       "      <th>id</th>\n",
       "      <th>review</th>\n",
       "      <th>rating</th>\n",
       "      <th>fresh</th>\n",
       "      <th>critic</th>\n",
       "      <th>top_critic</th>\n",
       "      <th>publisher</th>\n",
       "      <th>date</th>\n",
       "    </tr>\n",
       "  </thead>\n",
       "  <tbody>\n",
       "    <tr>\n",
       "      <th>0</th>\n",
       "      <td>3</td>\n",
       "      <td>A distinctly gallows take on contemporary fina...</td>\n",
       "      <td>3/5</td>\n",
       "      <td>fresh</td>\n",
       "      <td>PJ Nabarro</td>\n",
       "      <td>0</td>\n",
       "      <td>Patrick Nabarro</td>\n",
       "      <td>November 10, 2018</td>\n",
       "    </tr>\n",
       "    <tr>\n",
       "      <th>1</th>\n",
       "      <td>3</td>\n",
       "      <td>It's an allegory in search of a meaning that n...</td>\n",
       "      <td>NaN</td>\n",
       "      <td>rotten</td>\n",
       "      <td>Annalee Newitz</td>\n",
       "      <td>0</td>\n",
       "      <td>io9.com</td>\n",
       "      <td>May 23, 2018</td>\n",
       "    </tr>\n",
       "    <tr>\n",
       "      <th>2</th>\n",
       "      <td>3</td>\n",
       "      <td>... life lived in a bubble in financial dealin...</td>\n",
       "      <td>NaN</td>\n",
       "      <td>fresh</td>\n",
       "      <td>Sean Axmaker</td>\n",
       "      <td>0</td>\n",
       "      <td>Stream on Demand</td>\n",
       "      <td>January 4, 2018</td>\n",
       "    </tr>\n",
       "    <tr>\n",
       "      <th>3</th>\n",
       "      <td>3</td>\n",
       "      <td>Continuing along a line introduced in last yea...</td>\n",
       "      <td>NaN</td>\n",
       "      <td>fresh</td>\n",
       "      <td>Daniel Kasman</td>\n",
       "      <td>0</td>\n",
       "      <td>MUBI</td>\n",
       "      <td>November 16, 2017</td>\n",
       "    </tr>\n",
       "    <tr>\n",
       "      <th>4</th>\n",
       "      <td>3</td>\n",
       "      <td>... a perverse twist on neorealism...</td>\n",
       "      <td>NaN</td>\n",
       "      <td>fresh</td>\n",
       "      <td>NaN</td>\n",
       "      <td>0</td>\n",
       "      <td>Cinema Scope</td>\n",
       "      <td>October 12, 2017</td>\n",
       "    </tr>\n",
       "  </tbody>\n",
       "</table>\n",
       "</div>"
      ],
      "text/plain": [
       "   id                                             review rating   fresh  \\\n",
       "0   3  A distinctly gallows take on contemporary fina...    3/5   fresh   \n",
       "1   3  It's an allegory in search of a meaning that n...    NaN  rotten   \n",
       "2   3  ... life lived in a bubble in financial dealin...    NaN   fresh   \n",
       "3   3  Continuing along a line introduced in last yea...    NaN   fresh   \n",
       "4   3             ... a perverse twist on neorealism...     NaN   fresh   \n",
       "\n",
       "           critic  top_critic         publisher               date  \n",
       "0      PJ Nabarro           0   Patrick Nabarro  November 10, 2018  \n",
       "1  Annalee Newitz           0           io9.com       May 23, 2018  \n",
       "2    Sean Axmaker           0  Stream on Demand    January 4, 2018  \n",
       "3   Daniel Kasman           0              MUBI  November 16, 2017  \n",
       "4             NaN           0      Cinema Scope   October 12, 2017  "
      ]
     },
     "metadata": {},
     "output_type": "display_data"
    },
    {
     "name": "stdout",
     "output_type": "stream",
     "text": [
      "\n",
      "Movie Budgets from The Numbers:\n"
     ]
    },
    {
     "data": {
      "application/vnd.microsoft.datawrangler.viewer.v0+json": {
       "columns": [
        {
         "name": "index",
         "rawType": "int64",
         "type": "integer"
        },
        {
         "name": "id",
         "rawType": "int64",
         "type": "integer"
        },
        {
         "name": "release_date",
         "rawType": "object",
         "type": "string"
        },
        {
         "name": "movie",
         "rawType": "object",
         "type": "string"
        },
        {
         "name": "production_budget",
         "rawType": "object",
         "type": "string"
        },
        {
         "name": "domestic_gross",
         "rawType": "object",
         "type": "string"
        },
        {
         "name": "worldwide_gross",
         "rawType": "object",
         "type": "string"
        }
       ],
       "ref": "93f9b255-4d3e-419d-b7dc-b69d138a2a61",
       "rows": [
        [
         "0",
         "1",
         "Dec 18, 2009",
         "Avatar",
         "$425,000,000",
         "$760,507,625",
         "$2,776,345,279"
        ],
        [
         "1",
         "2",
         "May 20, 2011",
         "Pirates of the Caribbean: On Stranger Tides",
         "$410,600,000",
         "$241,063,875",
         "$1,045,663,875"
        ],
        [
         "2",
         "3",
         "Jun 7, 2019",
         "Dark Phoenix",
         "$350,000,000",
         "$42,762,350",
         "$149,762,350"
        ],
        [
         "3",
         "4",
         "May 1, 2015",
         "Avengers: Age of Ultron",
         "$330,600,000",
         "$459,005,868",
         "$1,403,013,963"
        ],
        [
         "4",
         "5",
         "Dec 15, 2017",
         "Star Wars Ep. VIII: The Last Jedi",
         "$317,000,000",
         "$620,181,382",
         "$1,316,721,747"
        ]
       ],
       "shape": {
        "columns": 6,
        "rows": 5
       }
      },
      "text/html": [
       "<div>\n",
       "<style scoped>\n",
       "    .dataframe tbody tr th:only-of-type {\n",
       "        vertical-align: middle;\n",
       "    }\n",
       "\n",
       "    .dataframe tbody tr th {\n",
       "        vertical-align: top;\n",
       "    }\n",
       "\n",
       "    .dataframe thead th {\n",
       "        text-align: right;\n",
       "    }\n",
       "</style>\n",
       "<table border=\"1\" class=\"dataframe\">\n",
       "  <thead>\n",
       "    <tr style=\"text-align: right;\">\n",
       "      <th></th>\n",
       "      <th>id</th>\n",
       "      <th>release_date</th>\n",
       "      <th>movie</th>\n",
       "      <th>production_budget</th>\n",
       "      <th>domestic_gross</th>\n",
       "      <th>worldwide_gross</th>\n",
       "    </tr>\n",
       "  </thead>\n",
       "  <tbody>\n",
       "    <tr>\n",
       "      <th>0</th>\n",
       "      <td>1</td>\n",
       "      <td>Dec 18, 2009</td>\n",
       "      <td>Avatar</td>\n",
       "      <td>$425,000,000</td>\n",
       "      <td>$760,507,625</td>\n",
       "      <td>$2,776,345,279</td>\n",
       "    </tr>\n",
       "    <tr>\n",
       "      <th>1</th>\n",
       "      <td>2</td>\n",
       "      <td>May 20, 2011</td>\n",
       "      <td>Pirates of the Caribbean: On Stranger Tides</td>\n",
       "      <td>$410,600,000</td>\n",
       "      <td>$241,063,875</td>\n",
       "      <td>$1,045,663,875</td>\n",
       "    </tr>\n",
       "    <tr>\n",
       "      <th>2</th>\n",
       "      <td>3</td>\n",
       "      <td>Jun 7, 2019</td>\n",
       "      <td>Dark Phoenix</td>\n",
       "      <td>$350,000,000</td>\n",
       "      <td>$42,762,350</td>\n",
       "      <td>$149,762,350</td>\n",
       "    </tr>\n",
       "    <tr>\n",
       "      <th>3</th>\n",
       "      <td>4</td>\n",
       "      <td>May 1, 2015</td>\n",
       "      <td>Avengers: Age of Ultron</td>\n",
       "      <td>$330,600,000</td>\n",
       "      <td>$459,005,868</td>\n",
       "      <td>$1,403,013,963</td>\n",
       "    </tr>\n",
       "    <tr>\n",
       "      <th>4</th>\n",
       "      <td>5</td>\n",
       "      <td>Dec 15, 2017</td>\n",
       "      <td>Star Wars Ep. VIII: The Last Jedi</td>\n",
       "      <td>$317,000,000</td>\n",
       "      <td>$620,181,382</td>\n",
       "      <td>$1,316,721,747</td>\n",
       "    </tr>\n",
       "  </tbody>\n",
       "</table>\n",
       "</div>"
      ],
      "text/plain": [
       "   id  release_date                                        movie  \\\n",
       "0   1  Dec 18, 2009                                       Avatar   \n",
       "1   2  May 20, 2011  Pirates of the Caribbean: On Stranger Tides   \n",
       "2   3   Jun 7, 2019                                 Dark Phoenix   \n",
       "3   4   May 1, 2015                      Avengers: Age of Ultron   \n",
       "4   5  Dec 15, 2017            Star Wars Ep. VIII: The Last Jedi   \n",
       "\n",
       "  production_budget domestic_gross worldwide_gross  \n",
       "0      $425,000,000   $760,507,625  $2,776,345,279  \n",
       "1      $410,600,000   $241,063,875  $1,045,663,875  \n",
       "2      $350,000,000    $42,762,350    $149,762,350  \n",
       "3      $330,600,000   $459,005,868  $1,403,013,963  \n",
       "4      $317,000,000   $620,181,382  $1,316,721,747  "
      ]
     },
     "metadata": {},
     "output_type": "display_data"
    }
   ],
   "source": [
    "# Preview datasets\n",
    "print(\"\\nRotten Tomatoes Info:\")\n",
    "display(df_rt_info.head())\n",
    "\n",
    "print(\"\\nRotten Tomatoes Reviews:\")\n",
    "display(df_rt_reviews.head())\n",
    "\n",
    "print(\"\\nMovie Budgets from The Numbers:\")\n",
    "display(df_budgets.head())"
   ]
  },
  {
   "cell_type": "markdown",
   "id": "5d7de6cd",
   "metadata": {},
   "source": [
    "##  SECTION 2: DATA PREPARATION"
   ]
  },
  {
   "cell_type": "code",
   "execution_count": 6,
   "id": "06449cac",
   "metadata": {},
   "outputs": [
    {
     "data": {
      "application/vnd.microsoft.datawrangler.viewer.v0+json": {
       "columns": [
        {
         "name": "index",
         "rawType": "int64",
         "type": "integer"
        },
        {
         "name": "id",
         "rawType": "int64",
         "type": "integer"
        },
        {
         "name": "release_date",
         "rawType": "datetime64[ns]",
         "type": "datetime"
        },
        {
         "name": "movie",
         "rawType": "object",
         "type": "string"
        },
        {
         "name": "production_budget",
         "rawType": "Int64",
         "type": "integer"
        },
        {
         "name": "domestic_gross",
         "rawType": "Int64",
         "type": "integer"
        },
        {
         "name": "worldwide_gross",
         "rawType": "Int64",
         "type": "integer"
        }
       ],
       "ref": "b56dc146-82fd-428a-a94e-e53fc775f78a",
       "rows": [
        [
         "0",
         "1",
         "2009-12-18 00:00:00",
         "Avatar",
         "425000000",
         "760507625",
         "2776345279"
        ],
        [
         "1",
         "2",
         "2011-05-20 00:00:00",
         "Pirates of the Caribbean: On Stranger Tides",
         "410600000",
         "241063875",
         "1045663875"
        ],
        [
         "2",
         "3",
         "2019-06-07 00:00:00",
         "Dark Phoenix",
         "350000000",
         "42762350",
         "149762350"
        ],
        [
         "3",
         "4",
         "2015-05-01 00:00:00",
         "Avengers: Age of Ultron",
         "330600000",
         "459005868",
         "1403013963"
        ],
        [
         "4",
         "5",
         "2017-12-15 00:00:00",
         "Star Wars Ep. VIII: The Last Jedi",
         "317000000",
         "620181382",
         "1316721747"
        ]
       ],
       "shape": {
        "columns": 6,
        "rows": 5
       }
      },
      "text/html": [
       "<div>\n",
       "<style scoped>\n",
       "    .dataframe tbody tr th:only-of-type {\n",
       "        vertical-align: middle;\n",
       "    }\n",
       "\n",
       "    .dataframe tbody tr th {\n",
       "        vertical-align: top;\n",
       "    }\n",
       "\n",
       "    .dataframe thead th {\n",
       "        text-align: right;\n",
       "    }\n",
       "</style>\n",
       "<table border=\"1\" class=\"dataframe\">\n",
       "  <thead>\n",
       "    <tr style=\"text-align: right;\">\n",
       "      <th></th>\n",
       "      <th>id</th>\n",
       "      <th>release_date</th>\n",
       "      <th>movie</th>\n",
       "      <th>production_budget</th>\n",
       "      <th>domestic_gross</th>\n",
       "      <th>worldwide_gross</th>\n",
       "    </tr>\n",
       "  </thead>\n",
       "  <tbody>\n",
       "    <tr>\n",
       "      <th>0</th>\n",
       "      <td>1</td>\n",
       "      <td>2009-12-18</td>\n",
       "      <td>Avatar</td>\n",
       "      <td>425000000</td>\n",
       "      <td>760507625</td>\n",
       "      <td>2776345279</td>\n",
       "    </tr>\n",
       "    <tr>\n",
       "      <th>1</th>\n",
       "      <td>2</td>\n",
       "      <td>2011-05-20</td>\n",
       "      <td>Pirates of the Caribbean: On Stranger Tides</td>\n",
       "      <td>410600000</td>\n",
       "      <td>241063875</td>\n",
       "      <td>1045663875</td>\n",
       "    </tr>\n",
       "    <tr>\n",
       "      <th>2</th>\n",
       "      <td>3</td>\n",
       "      <td>2019-06-07</td>\n",
       "      <td>Dark Phoenix</td>\n",
       "      <td>350000000</td>\n",
       "      <td>42762350</td>\n",
       "      <td>149762350</td>\n",
       "    </tr>\n",
       "    <tr>\n",
       "      <th>3</th>\n",
       "      <td>4</td>\n",
       "      <td>2015-05-01</td>\n",
       "      <td>Avengers: Age of Ultron</td>\n",
       "      <td>330600000</td>\n",
       "      <td>459005868</td>\n",
       "      <td>1403013963</td>\n",
       "    </tr>\n",
       "    <tr>\n",
       "      <th>4</th>\n",
       "      <td>5</td>\n",
       "      <td>2017-12-15</td>\n",
       "      <td>Star Wars Ep. VIII: The Last Jedi</td>\n",
       "      <td>317000000</td>\n",
       "      <td>620181382</td>\n",
       "      <td>1316721747</td>\n",
       "    </tr>\n",
       "  </tbody>\n",
       "</table>\n",
       "</div>"
      ],
      "text/plain": [
       "   id release_date                                        movie  \\\n",
       "0   1   2009-12-18                                       Avatar   \n",
       "1   2   2011-05-20  Pirates of the Caribbean: On Stranger Tides   \n",
       "2   3   2019-06-07                                 Dark Phoenix   \n",
       "3   4   2015-05-01                      Avengers: Age of Ultron   \n",
       "4   5   2017-12-15            Star Wars Ep. VIII: The Last Jedi   \n",
       "\n",
       "   production_budget  domestic_gross  worldwide_gross  \n",
       "0          425000000       760507625       2776345279  \n",
       "1          410600000       241063875       1045663875  \n",
       "2          350000000        42762350        149762350  \n",
       "3          330600000       459005868       1403013963  \n",
       "4          317000000       620181382       1316721747  "
      ]
     },
     "execution_count": 6,
     "metadata": {},
     "output_type": "execute_result"
    }
   ],
   "source": [
    "# Clean budgets data\n",
    "\n",
    "# Rename columns to lowercase and replace spaces with underscores\n",
    "df_budgets.columns = df_budgets.columns.str.lower().str.replace(' ', '_')\n",
    "\n",
    "# Remove dollar signs and commas, convert to numeric\n",
    "df_budgets['production_budget'] = (\n",
    "    df_budgets['production_budget'].replace('[\\$,]', '', regex=True)\n",
    ")\n",
    "\n",
    "# Convert production_budget to numeric, handling errors\n",
    "df_budgets['production_budget'] = pd.to_numeric(df_budgets['production_budget'], errors='coerce').astype('Int64')\n",
    "\n",
    "# Remove dollar signs and commas from domestic_gross\n",
    "df_budgets['domestic_gross'] = (\n",
    "    df_budgets['domestic_gross'].replace('[\\$,]', '', regex=True)\n",
    ")\n",
    "\n",
    "# Convert domestic_gross to numeric, handling errors\n",
    "df_budgets['domestic_gross'] = pd.to_numeric(df_budgets['domestic_gross'], errors='coerce').astype('Int64')\n",
    "\n",
    "# Remove dollar signs and commas from worldwide_gross\n",
    "df_budgets['worldwide_gross'] = (\n",
    "    df_budgets['worldwide_gross'].replace('[\\$,]', '', regex=True)\n",
    ")\n",
    "\n",
    "# Convert worldwide_gross to numeric, handling errors\n",
    "df_budgets['worldwide_gross'] = pd.to_numeric(df_budgets['worldwide_gross'], errors='coerce').astype('Int64')\n",
    "\n",
    "\n",
    "# Convert release_date to datetime format\n",
    "df_budgets['release_date'] = pd.to_datetime(df_budgets['release_date'])\n",
    "\n",
    "# Display the cleaned budgets data\n",
    "df_budgets.head()"
   ]
  },
  {
   "cell_type": "code",
   "execution_count": 7,
   "id": "2ee2dee6",
   "metadata": {},
   "outputs": [
    {
     "data": {
      "application/vnd.microsoft.datawrangler.viewer.v0+json": {
       "columns": [
        {
         "name": "index",
         "rawType": "int64",
         "type": "integer"
        },
        {
         "name": "id",
         "rawType": "int64",
         "type": "integer"
        },
        {
         "name": "release_date",
         "rawType": "datetime64[ns]",
         "type": "datetime"
        },
        {
         "name": "movie",
         "rawType": "object",
         "type": "string"
        },
        {
         "name": "production_budget",
         "rawType": "Int64",
         "type": "integer"
        },
        {
         "name": "domestic_gross",
         "rawType": "Int64",
         "type": "integer"
        },
        {
         "name": "worldwide_gross",
         "rawType": "Int64",
         "type": "integer"
        },
        {
         "name": "roi",
         "rawType": "Float64",
         "type": "float"
        }
       ],
       "ref": "6098a17f-9c66-4b53-9321-2b2d60c732c4",
       "rows": [
        [
         "0",
         "1",
         "2009-12-18 00:00:00",
         "Avatar",
         "425000000",
         "760507625",
         "2776345279",
         "5.532577127045806"
        ],
        [
         "1",
         "2",
         "2011-05-20 00:00:00",
         "Pirates of the Caribbean: On Stranger Tides",
         "410600000",
         "241063875",
         "1045663875",
         "1.5466728567911674"
        ],
        [
         "2",
         "3",
         "2019-06-07 00:00:00",
         "Dark Phoenix",
         "350000000",
         "42762350",
         "149762350",
         "-0.5721075714269369"
        ],
        [
         "3",
         "4",
         "2015-05-01 00:00:00",
         "Avengers: Age of Ultron",
         "330600000",
         "459005868",
         "1403013963",
         "3.243841388374943"
        ],
        [
         "4",
         "5",
         "2017-12-15 00:00:00",
         "Star Wars Ep. VIII: The Last Jedi",
         "317000000",
         "620181382",
         "1316721747",
         "3.153696362766077"
        ]
       ],
       "shape": {
        "columns": 7,
        "rows": 5
       }
      },
      "text/html": [
       "<div>\n",
       "<style scoped>\n",
       "    .dataframe tbody tr th:only-of-type {\n",
       "        vertical-align: middle;\n",
       "    }\n",
       "\n",
       "    .dataframe tbody tr th {\n",
       "        vertical-align: top;\n",
       "    }\n",
       "\n",
       "    .dataframe thead th {\n",
       "        text-align: right;\n",
       "    }\n",
       "</style>\n",
       "<table border=\"1\" class=\"dataframe\">\n",
       "  <thead>\n",
       "    <tr style=\"text-align: right;\">\n",
       "      <th></th>\n",
       "      <th>id</th>\n",
       "      <th>release_date</th>\n",
       "      <th>movie</th>\n",
       "      <th>production_budget</th>\n",
       "      <th>domestic_gross</th>\n",
       "      <th>worldwide_gross</th>\n",
       "      <th>roi</th>\n",
       "    </tr>\n",
       "  </thead>\n",
       "  <tbody>\n",
       "    <tr>\n",
       "      <th>0</th>\n",
       "      <td>1</td>\n",
       "      <td>2009-12-18</td>\n",
       "      <td>Avatar</td>\n",
       "      <td>425000000</td>\n",
       "      <td>760507625</td>\n",
       "      <td>2776345279</td>\n",
       "      <td>5.532577</td>\n",
       "    </tr>\n",
       "    <tr>\n",
       "      <th>1</th>\n",
       "      <td>2</td>\n",
       "      <td>2011-05-20</td>\n",
       "      <td>Pirates of the Caribbean: On Stranger Tides</td>\n",
       "      <td>410600000</td>\n",
       "      <td>241063875</td>\n",
       "      <td>1045663875</td>\n",
       "      <td>1.546673</td>\n",
       "    </tr>\n",
       "    <tr>\n",
       "      <th>2</th>\n",
       "      <td>3</td>\n",
       "      <td>2019-06-07</td>\n",
       "      <td>Dark Phoenix</td>\n",
       "      <td>350000000</td>\n",
       "      <td>42762350</td>\n",
       "      <td>149762350</td>\n",
       "      <td>-0.572108</td>\n",
       "    </tr>\n",
       "    <tr>\n",
       "      <th>3</th>\n",
       "      <td>4</td>\n",
       "      <td>2015-05-01</td>\n",
       "      <td>Avengers: Age of Ultron</td>\n",
       "      <td>330600000</td>\n",
       "      <td>459005868</td>\n",
       "      <td>1403013963</td>\n",
       "      <td>3.243841</td>\n",
       "    </tr>\n",
       "    <tr>\n",
       "      <th>4</th>\n",
       "      <td>5</td>\n",
       "      <td>2017-12-15</td>\n",
       "      <td>Star Wars Ep. VIII: The Last Jedi</td>\n",
       "      <td>317000000</td>\n",
       "      <td>620181382</td>\n",
       "      <td>1316721747</td>\n",
       "      <td>3.153696</td>\n",
       "    </tr>\n",
       "  </tbody>\n",
       "</table>\n",
       "</div>"
      ],
      "text/plain": [
       "   id release_date                                        movie  \\\n",
       "0   1   2009-12-18                                       Avatar   \n",
       "1   2   2011-05-20  Pirates of the Caribbean: On Stranger Tides   \n",
       "2   3   2019-06-07                                 Dark Phoenix   \n",
       "3   4   2015-05-01                      Avengers: Age of Ultron   \n",
       "4   5   2017-12-15            Star Wars Ep. VIII: The Last Jedi   \n",
       "\n",
       "   production_budget  domestic_gross  worldwide_gross       roi  \n",
       "0          425000000       760507625       2776345279  5.532577  \n",
       "1          410600000       241063875       1045663875  1.546673  \n",
       "2          350000000        42762350        149762350 -0.572108  \n",
       "3          330600000       459005868       1403013963  3.243841  \n",
       "4          317000000       620181382       1316721747  3.153696  "
      ]
     },
     "execution_count": 7,
     "metadata": {},
     "output_type": "execute_result"
    }
   ],
   "source": [
    "# Add Return on Investment (ROI) column\n",
    "EPSILON = 1e-3  # to avoid division by zero\n",
    "df_budgets['roi'] = (df_budgets['worldwide_gross'] - df_budgets['production_budget']) / (df_budgets['production_budget'] + EPSILON)\n",
    "\n",
    "# Display the updated budgets data with ROI\n",
    "df_budgets.head()"
   ]
  },
  {
   "cell_type": "code",
   "execution_count": 8,
   "id": "5fc4b49b",
   "metadata": {},
   "outputs": [
    {
     "name": "stdout",
     "output_type": "stream",
     "text": [
      "<class 'pandas.core.frame.DataFrame'>\n",
      "RangeIndex: 1560 entries, 0 to 1559\n",
      "Data columns (total 12 columns):\n",
      " #   Column        Non-Null Count  Dtype \n",
      "---  ------        --------------  ----- \n",
      " 0   id            1560 non-null   int64 \n",
      " 1   synopsis      1498 non-null   object\n",
      " 2   rating        1557 non-null   object\n",
      " 3   genre         1552 non-null   object\n",
      " 4   director      1361 non-null   object\n",
      " 5   writer        1111 non-null   object\n",
      " 6   theater_date  1201 non-null   object\n",
      " 7   dvd_date      1201 non-null   object\n",
      " 8   currency      340 non-null    object\n",
      " 9   box_office    340 non-null    object\n",
      " 10  runtime       1530 non-null   object\n",
      " 11  studio        494 non-null    object\n",
      "dtypes: int64(1), object(11)\n",
      "memory usage: 146.4+ KB\n"
     ]
    }
   ],
   "source": [
    "# Display the information of the Rotten Tomatoes movie info DataFrame\n",
    "df_rt_info.info()"
   ]
  },
  {
   "cell_type": "code",
   "execution_count": 9,
   "id": "d2ad169d",
   "metadata": {},
   "outputs": [
    {
     "name": "stdout",
     "output_type": "stream",
     "text": [
      "<class 'pandas.core.frame.DataFrame'>\n",
      "Index: 1552 entries, 0 to 1559\n",
      "Data columns (total 12 columns):\n",
      " #   Column        Non-Null Count  Dtype \n",
      "---  ------        --------------  ----- \n",
      " 0   id            1552 non-null   int64 \n",
      " 1   synopsis      1495 non-null   object\n",
      " 2   rating        1552 non-null   object\n",
      " 3   genre         1552 non-null   object\n",
      " 4   director      1360 non-null   object\n",
      " 5   writer        1110 non-null   object\n",
      " 6   theater_date  1201 non-null   object\n",
      " 7   dvd_date      1201 non-null   object\n",
      " 8   currency      340 non-null    object\n",
      " 9   box_office    340 non-null    object\n",
      " 10  runtime       1526 non-null   object\n",
      " 11  studio        494 non-null    object\n",
      "dtypes: int64(1), object(11)\n",
      "memory usage: 157.6+ KB\n"
     ]
    }
   ],
   "source": [
    "# Clean Rotten Tomatoes info data\n",
    "df_rt_info_clean = df_rt_info.dropna(subset=['genre', 'id'])\n",
    "df_rt_info_clean.info()"
   ]
  },
  {
   "cell_type": "markdown",
   "id": "0bf27b60",
   "metadata": {},
   "source": [
    "## SECTION 3: EXPLORATORY DATA ANALYSIS"
   ]
  },
  {
   "cell_type": "markdown",
   "id": "58ab8bf3",
   "metadata": {},
   "source": [
    "### Recommendation 1: Focus on High-ROI Genres"
   ]
  },
  {
   "cell_type": "code",
   "execution_count": 10,
   "id": "b851b468",
   "metadata": {},
   "outputs": [
    {
     "name": "stderr",
     "output_type": "stream",
     "text": [
      "C:\\Users\\user\\AppData\\Local\\Temp\\ipykernel_25836\\3652675352.py:5: SettingWithCopyWarning: \n",
      "A value is trying to be set on a copy of a slice from a DataFrame.\n",
      "Try using .loc[row_indexer,col_indexer] = value instead\n",
      "\n",
      "See the caveats in the documentation: https://pandas.pydata.org/pandas-docs/stable/user_guide/indexing.html#returning-a-view-versus-a-copy\n",
      "  df_rt_info_clean['id'] = df_rt_info_clean['id'].astype(str)\n"
     ]
    },
    {
     "data": {
      "image/png": "[encoded data removed]",
      "text/plain": [
       "<Figure size 1000x600 with 1 Axes>"
      ]
     },
     "metadata": {},
     "output_type": "display_data"
    }
   ],
   "source": [
    "# Merge genre data with budget/ROI\n",
    "\n",
    "# Ensure both columns are string type for merging\n",
    "df_budgets['movie'] = df_budgets['movie'].astype(str)\n",
    "df_rt_info_clean['id'] = df_rt_info_clean['id'].astype(str)\n",
    "\n",
    "# Merge on 'movie' (budgets) and 'id' (RT info)\n",
    "merged_df = pd.merge(df_budgets, df_rt_info_clean, left_on='movie', right_on='id', how='inner')\n",
    "\n",
    "# Group by genre, calculate average ROI\n",
    "df_genre_roi = merged_df.groupby('genre')['roi'].mean().sort_values(ascending=False).head(10)\n",
    "\n",
    "# Plot the top 10 genres by average ROI\n",
    "plt.figure(figsize=(10, 6))\n",
    "sns.barplot(x=df_genre_roi.values, y=df_genre_roi.index, palette='viridis')\n",
    "plt.title('Top 10 Genres by Average ROI')\n",
    "plt.xlabel('Average ROI')\n",
    "plt.ylabel('Genre')\n",
    "plt.tight_layout()\n",
    "plt.show();"
   ]
  },
  {
   "cell_type": "markdown",
   "id": "28f3230b",
   "metadata": {},
   "source": [
    "### Recommendation 2: Leverage Release Date Trends"
   ]
  },
  {
   "cell_type": "code",
   "execution_count": 11,
   "id": "6487ccdb",
   "metadata": {},
   "outputs": [
    {
     "name": "stderr",
     "output_type": "stream",
     "text": [
      "c:\\Users\\user\\anaconda3\\Lib\\site-packages\\seaborn\\_oldcore.py:1119: FutureWarning: use_inf_as_na option is deprecated and will be removed in a future version. Convert inf values to NaN before operating instead.\n",
      "  with pd.option_context('mode.use_inf_as_na', True):\n",
      "c:\\Users\\user\\anaconda3\\Lib\\site-packages\\seaborn\\_oldcore.py:1119: FutureWarning: use_inf_as_na option is deprecated and will be removed in a future version. Convert inf values to NaN before operating instead.\n",
      "  with pd.option_context('mode.use_inf_as_na', True):\n"
     ]
    },
    {
     "data": {
      "image/png": "[encoded data removed]",
      "text/plain": [
       "<Figure size 1000x500 with 1 Axes>"
      ]
     },
     "metadata": {},
     "output_type": "display_data"
    }
   ],
   "source": [
    "monthly_gross = df_budgets.copy()\n",
    "monthly_gross['month'] = monthly_gross['release_date'].dt.month\n",
    "monthly_avg = monthly_gross.groupby('month')['worldwide_gross'].mean()\n",
    "\n",
    "plt.figure(figsize=(10, 5))\n",
    "sns.lineplot(x=monthly_avg.index, y=monthly_avg.values, marker='o')\n",
    "plt.title('Average Worldwide Gross by Release Month')\n",
    "plt.xlabel('Release Month')\n",
    "plt.ylabel('Average Worldwide Gross')\n",
    "plt.xticks(range(1, 13))\n",
    "plt.grid(True)\n",
    "plt.tight_layout()\n",
    "plt.show()"
   ]
  },
  {
   "cell_type": "markdown",
   "id": "f92502e2",
   "metadata": {},
   "source": [
    "## SECTION 4: RECOMMENDATIONS"
   ]
  },
  {
   "cell_type": "markdown",
   "id": "408ece9c",
   "metadata": {},
   "source": [
    "1️⃣ Focus on High-ROI Genres:\n",
    "   - Genres like Drama consistently produce strong returns.\n",
    "   - These should be prioritized in early production planning.\n",
    "\n",
    "2️⃣ Release Strategically:\n",
    "   - Movies released in May tend to gross more globally.\n",
    "   - Align launch schedules with these windows for greater exposure.\n",
    "\n",
    "3️⃣ Invest in Critically Acclaimed Projects:\n",
    "   - Films with more positive reviews from top critics build audience trust and higher revenues.\n",
    "   - Target projects with high early critic support or strong scripts.\n"
   ]
  },
  {
   "cell_type": "markdown",
   "id": "bd2b77b0",
   "metadata": {},
   "source": [
    "## SUMMARY"
   ]
  },
  {
   "cell_type": "markdown",
   "id": "5f396250",
   "metadata": {},
   "source": [
    "- This analysis combined financial, critical, and genre-specific data from Rotten Tomatoes and The Numbers to produce actionable insights.\n",
    "\n",
    "- The recommended strategy—focusing on profitable genres, timing releases for peak periods, and favoring quality storytelling—is aimed at maximizing return on investment for the new movie studio."
   ]
  },
  {
   "cell_type": "markdown",
   "id": "14d40e55",
   "metadata": {},
   "source": [
    "## NEXT STEPS"
   ]
  },
  {
   "cell_type": "markdown",
   "id": "55e1fe5c",
   "metadata": {},
   "source": [
    "- Integrate IMDB dataset (SQLite) for casting/director correlations\n",
    "- Conduct sentiment analysis on critic reviews\n",
    "- Explore international market trends further"
   ]
  }
 ],
 "metadata": {
  "kernelspec": {
   "display_name": "base",
   "language": "python",
   "name": "python3"
  },
  "language_info": {
   "codemirror_mode": {
    "name": "ipython",
    "version": 3
   },
   "file_extension": ".py",
   "mimetype": "text/x-python",
   "name": "python",
   "nbconvert_exporter": "python",
   "pygments_lexer": "ipython3",
   "version": "3.11.7"
  }
 },
 "nbformat": 4,
 "nbformat_minor": 5
}
